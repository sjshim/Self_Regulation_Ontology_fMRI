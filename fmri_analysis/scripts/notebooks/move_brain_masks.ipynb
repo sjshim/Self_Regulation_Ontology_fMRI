{
 "cells": [
  {
   "cell_type": "code",
   "execution_count": 1,
   "id": "88596062-79c1-4722-b124-698cf45fdbfb",
   "metadata": {},
   "outputs": [],
   "source": [
    "import glob\n",
    "import shutil"
   ]
  },
  {
   "cell_type": "code",
   "execution_count": 2,
   "id": "3a8a310b-c4d6-4309-af50-6e1a8eae026f",
   "metadata": {},
   "outputs": [],
   "source": [
    "oak = '/oak/stanford/groups/russpold/data/network_grant/discovery_BIDS/derivatives'\n",
    "fmriprep = oak + '/fmriprep/'\n",
    "sobc = oak + '/SOBC_analysis/'\n",
    "#subjects = ['sub-s03', 'sub-s10', 'sub-s19', 'sub-s29']\n",
    "subjects = ['sub-s43']\n",
    "sessions = ['ses-01', 'ses-02', 'ses-03', 'ses-04', 'ses-05', 'ses-06',\n",
    "            'ses-07', 'ses-08', 'ses-09', 'ses-10', 'ses-11', 'ses-12']"
   ]
  },
  {
   "cell_type": "code",
   "execution_count": 3,
   "id": "157c3ef5-0220-4ed3-b2be-c1ad534fe853",
   "metadata": {},
   "outputs": [],
   "source": [
    "sobc_files = glob.glob(sobc+\"*/*/*/*brain_mask.nii.gz\")"
   ]
  },
  {
   "cell_type": "code",
   "execution_count": 5,
   "id": "8e5f7735-106c-4165-831d-fff473eae852",
   "metadata": {},
   "outputs": [],
   "source": [
    "for sub in subjects:\n",
    "    for ses in sessions:\n",
    "        sobc_files = glob.glob(sobc+sub+'/'+ses+'/func/*brain_mask.nii.gz')\n",
    "        for item in sobc_files:\n",
    "            filename=item.split('/')[-1]\n",
    "            task = filename.split('_')[2]\n",
    "            fmriprep_files = glob.glob(fmriprep+sub+'/'+ses+'/func/*'+task+'*MNI*brain_mask.nii.gz')\n",
    "            #print(fmriprep_files)\n",
    "            fmriprep_path = fmriprep_files[0]\n",
    "            new_path = item\n",
    "            #print(fmriprep_path)\n",
    "            #print(item)\n",
    "            shutil.copy(fmriprep_path, item)"
   ]
  },
  {
   "cell_type": "code",
   "execution_count": null,
   "id": "9d04fac4-ab60-4f58-992d-be591f24408d",
   "metadata": {},
   "outputs": [],
   "source": []
  }
 ],
 "metadata": {
  "kernelspec": {
   "display_name": "Python 3",
   "language": "python",
   "name": "python3"
  },
  "language_info": {
   "codemirror_mode": {
    "name": "ipython",
    "version": 3
   },
   "file_extension": ".py",
   "mimetype": "text/x-python",
   "name": "python",
   "nbconvert_exporter": "python",
   "pygments_lexer": "ipython3",
   "version": "3.9.5"
  }
 },
 "nbformat": 4,
 "nbformat_minor": 5
}
