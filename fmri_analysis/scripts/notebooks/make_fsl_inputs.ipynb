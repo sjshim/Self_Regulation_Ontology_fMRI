{
 "cells": [
  {
   "cell_type": "markdown",
   "metadata": {},
   "source": [
    "### Pt0.5 - imports and (mounted) paths"
   ]
  },
  {
   "cell_type": "code",
   "execution_count": 1,
   "metadata": {},
   "outputs": [],
   "source": [
    "import pandas as pd\n",
    "import numpy as np\n",
    "from glob import glob\n",
    "from os import path,makedirs\n",
    "import re"
   ]
  },
  {
   "cell_type": "code",
   "execution_count": 2,
   "metadata": {},
   "outputs": [],
   "source": [
    "bids_dir = '/Users/henrymj/Documents/SRO/tmp/OAK/data/uh2/aim1/BIDS_scans'\n",
    "deriv_dir = path.join(bids_dir, 'derivatives')\n",
    "firstlevel_path = path.join(deriv_dir, '1stlevel')\n",
    "fsl_input_path = path.join(deriv_dir, 'fsl/inputs')\n",
    "fsl_output_path = path.join(deriv_dir, 'fsl/outputs')"
   ]
  },
  {
   "cell_type": "code",
   "execution_count": null,
   "metadata": {},
   "outputs": [],
   "source": [
    "#making some dirs that I didn't get around to"
   ]
  },
  {
   "cell_type": "code",
   "execution_count": 3,
   "metadata": {},
   "outputs": [],
   "source": [
    "curr_fsl_dirs = glob(path.join(fsl_output_path, 's*', '*'))\n",
    "curr_fsl_dirs.sort()"
   ]
  },
  {
   "cell_type": "code",
   "execution_count": null,
   "metadata": {},
   "outputs": [],
   "source": [
    "for dpath in curr_fsl_dirs:\n",
    "    if path.isdir(dpath):\n",
    "        print(dpath)\n",
    "        makedirs(path.join(dpath, 'RT-True'), exist_ok=True)\n",
    "        makedirs(path.join(dpath, 'RT-False'), exist_ok=True)"
   ]
  },
  {
   "cell_type": "code",
   "execution_count": null,
   "metadata": {},
   "outputs": [],
   "source": []
  },
  {
   "cell_type": "markdown",
   "metadata": {},
   "source": [
    "## Pt1 - making simple events .tsv files for design matrix"
   ]
  },
  {
   "cell_type": "code",
   "execution_count": 10,
   "metadata": {},
   "outputs": [],
   "source": [
    "eventsfiles = glob(path.join(firstlevel_path, '*/*', 'simplified_events_RT-True_*')) #the RT regressor does not affect the calculation of other regressors\n",
    "eventsfiles.sort()"
   ]
  },
  {
   "cell_type": "code",
   "execution_count": null,
   "metadata": {},
   "outputs": [],
   "source": [
    "for ef in eventsfiles:\n",
    "    subjtask = ef.split('1stlevel/')[1].split('/simplified')[0] #get subj/task\n",
    "    makedirs(path.join(fsl_input_path, subjtask), exist_ok=True) #make fsl/inputs/subj/task dir\n",
    "    makedirs(path.join(fsl_output_path, subjtask), exist_ok=True) #make fsl/inputs/subj/task dir\n",
    "    ev_df = pd.read_csv(ef)\n",
    "    curr_conditions = ev_df.conditions.unique()\n",
    "    for cond in curr_conditions:\n",
    "        tmp = ev_df[ev_df.conditions==cond] #get condition subset\n",
    "        tmp = tmp.filter(['onsets', 'durations', 'amplitudes']) #drop irrelevant columns\n",
    "        tmp.to_csv(path.join(fsl_input_path, subjtask, cond+'_events.tsv'), sep='\\t', header=False, index=False) #save as simple tsv"
   ]
  },
  {
   "cell_type": "markdown",
   "metadata": {},
   "source": [
    "## Pt2 - making confound .tsv files for design matrix"
   ]
  },
  {
   "cell_type": "code",
   "execution_count": 3,
   "metadata": {},
   "outputs": [],
   "source": [
    "confound_cols = ['trans_*', 'rot_*', 'framewise_displacement', 'a_comp_cor_*', 'rejectTR_*', 'drift_*', 'constant']"
   ]
  },
  {
   "cell_type": "code",
   "execution_count": 26,
   "metadata": {},
   "outputs": [],
   "source": [
    "designfiles = glob(path.join(firstlevel_path, '*/DPX', 'design_RT-True*')) #confounds should not be affected by presence/absence of RT regressor\n",
    "designfiles.sort()"
   ]
  },
  {
   "cell_type": "code",
   "execution_count": 31,
   "metadata": {},
   "outputs": [],
   "source": [
    "for des in designfiles:\n",
    "    subjtask = des.split('1stlevel/')[1].split('/design')[0] #get subj/task\n",
    "    makedirs(path.join(fsl_input_path, subjtask), exist_ok=True) #make fsl/inputs/subj/task dir\n",
    "    des_df = pd.read_csv(des, index_col=0)\n",
    "    confound_df = des_df.filter(regex='|'.join(confound_cols))\n",
    "    confound_df.to_csv(path.join(fsl_input_path, subjtask, 'confounds.tsv'), sep='\\t', header=False, index=False) #save as simple tsv    "
   ]
  },
  {
   "cell_type": "code",
   "execution_count": 30,
   "metadata": {},
   "outputs": [
    {
     "data": {
      "text/html": [
       "<div>\n",
       "<style scoped>\n",
       "    .dataframe tbody tr th:only-of-type {\n",
       "        vertical-align: middle;\n",
       "    }\n",
       "\n",
       "    .dataframe tbody tr th {\n",
       "        vertical-align: top;\n",
       "    }\n",
       "\n",
       "    .dataframe thead th {\n",
       "        text-align: right;\n",
       "    }\n",
       "</style>\n",
       "<table border=\"1\" class=\"dataframe\">\n",
       "  <thead>\n",
       "    <tr style=\"text-align: right;\">\n",
       "      <th></th>\n",
       "      <th>trans_x</th>\n",
       "      <th>trans_y</th>\n",
       "      <th>trans_z</th>\n",
       "      <th>rot_x</th>\n",
       "      <th>rot_y</th>\n",
       "      <th>rot_z</th>\n",
       "      <th>trans_xtd</th>\n",
       "      <th>trans_ytd</th>\n",
       "      <th>trans_ztd</th>\n",
       "      <th>rot_xtd</th>\n",
       "      <th>...</th>\n",
       "      <th>drift_9</th>\n",
       "      <th>drift_10</th>\n",
       "      <th>drift_11</th>\n",
       "      <th>drift_12</th>\n",
       "      <th>drift_13</th>\n",
       "      <th>drift_14</th>\n",
       "      <th>drift_15</th>\n",
       "      <th>drift_16</th>\n",
       "      <th>drift_17</th>\n",
       "      <th>constant</th>\n",
       "    </tr>\n",
       "  </thead>\n",
       "  <tbody>\n",
       "    <tr>\n",
       "      <th>0.00</th>\n",
       "      <td>0.000039</td>\n",
       "      <td>0.118282</td>\n",
       "      <td>0.024608</td>\n",
       "      <td>-0.001136</td>\n",
       "      <td>2.678020e-23</td>\n",
       "      <td>0.000123</td>\n",
       "      <td>-0.007885</td>\n",
       "      <td>-0.089178</td>\n",
       "      <td>-0.038953</td>\n",
       "      <td>0.000376</td>\n",
       "      <td>...</td>\n",
       "      <td>0.042753</td>\n",
       "      <td>0.042753</td>\n",
       "      <td>0.042752</td>\n",
       "      <td>0.042751</td>\n",
       "      <td>0.042749</td>\n",
       "      <td>0.042748</td>\n",
       "      <td>0.042747</td>\n",
       "      <td>0.042746</td>\n",
       "      <td>0.042744</td>\n",
       "      <td>1.0</td>\n",
       "    </tr>\n",
       "    <tr>\n",
       "      <th>0.68</th>\n",
       "      <td>-0.007846</td>\n",
       "      <td>0.029104</td>\n",
       "      <td>-0.014345</td>\n",
       "      <td>-0.000760</td>\n",
       "      <td>-0.000000e+00</td>\n",
       "      <td>0.000000</td>\n",
       "      <td>-0.002707</td>\n",
       "      <td>-0.059061</td>\n",
       "      <td>0.003306</td>\n",
       "      <td>0.000618</td>\n",
       "      <td>...</td>\n",
       "      <td>0.042725</td>\n",
       "      <td>0.042717</td>\n",
       "      <td>0.042709</td>\n",
       "      <td>0.042700</td>\n",
       "      <td>0.042690</td>\n",
       "      <td>0.042679</td>\n",
       "      <td>0.042668</td>\n",
       "      <td>0.042655</td>\n",
       "      <td>0.042642</td>\n",
       "      <td>1.0</td>\n",
       "    </tr>\n",
       "    <tr>\n",
       "      <th>1.36</th>\n",
       "      <td>-0.005376</td>\n",
       "      <td>0.000160</td>\n",
       "      <td>0.031220</td>\n",
       "      <td>0.000100</td>\n",
       "      <td>-2.732250e-04</td>\n",
       "      <td>0.000153</td>\n",
       "      <td>-0.002014</td>\n",
       "      <td>-0.003025</td>\n",
       "      <td>0.018778</td>\n",
       "      <td>0.000003</td>\n",
       "      <td>...</td>\n",
       "      <td>0.042668</td>\n",
       "      <td>0.042647</td>\n",
       "      <td>0.042624</td>\n",
       "      <td>0.042598</td>\n",
       "      <td>0.042571</td>\n",
       "      <td>0.042541</td>\n",
       "      <td>0.042509</td>\n",
       "      <td>0.042475</td>\n",
       "      <td>0.042439</td>\n",
       "      <td>1.0</td>\n",
       "    </tr>\n",
       "    <tr>\n",
       "      <th>2.04</th>\n",
       "      <td>-0.011875</td>\n",
       "      <td>0.023054</td>\n",
       "      <td>0.023211</td>\n",
       "      <td>-0.000753</td>\n",
       "      <td>-0.000000e+00</td>\n",
       "      <td>0.000201</td>\n",
       "      <td>-0.002402</td>\n",
       "      <td>0.064087</td>\n",
       "      <td>0.022229</td>\n",
       "      <td>0.000087</td>\n",
       "      <td>...</td>\n",
       "      <td>0.042582</td>\n",
       "      <td>0.042541</td>\n",
       "      <td>0.042496</td>\n",
       "      <td>0.042446</td>\n",
       "      <td>0.042392</td>\n",
       "      <td>0.042334</td>\n",
       "      <td>0.042272</td>\n",
       "      <td>0.042205</td>\n",
       "      <td>0.042134</td>\n",
       "      <td>1.0</td>\n",
       "    </tr>\n",
       "    <tr>\n",
       "      <th>2.72</th>\n",
       "      <td>-0.010180</td>\n",
       "      <td>0.128335</td>\n",
       "      <td>0.075679</td>\n",
       "      <td>0.000273</td>\n",
       "      <td>1.631110e-23</td>\n",
       "      <td>0.000301</td>\n",
       "      <td>0.000610</td>\n",
       "      <td>0.008472</td>\n",
       "      <td>-0.012135</td>\n",
       "      <td>0.000081</td>\n",
       "      <td>...</td>\n",
       "      <td>0.042468</td>\n",
       "      <td>0.042400</td>\n",
       "      <td>0.042326</td>\n",
       "      <td>0.042244</td>\n",
       "      <td>0.042155</td>\n",
       "      <td>0.042059</td>\n",
       "      <td>0.041956</td>\n",
       "      <td>0.041846</td>\n",
       "      <td>0.041729</td>\n",
       "      <td>1.0</td>\n",
       "    </tr>\n",
       "    <tr>\n",
       "      <th>...</th>\n",
       "      <td>...</td>\n",
       "      <td>...</td>\n",
       "      <td>...</td>\n",
       "      <td>...</td>\n",
       "      <td>...</td>\n",
       "      <td>...</td>\n",
       "      <td>...</td>\n",
       "      <td>...</td>\n",
       "      <td>...</td>\n",
       "      <td>...</td>\n",
       "      <td>...</td>\n",
       "      <td>...</td>\n",
       "      <td>...</td>\n",
       "      <td>...</td>\n",
       "      <td>...</td>\n",
       "      <td>...</td>\n",
       "      <td>...</td>\n",
       "      <td>...</td>\n",
       "      <td>...</td>\n",
       "      <td>...</td>\n",
       "      <td>...</td>\n",
       "    </tr>\n",
       "    <tr>\n",
       "      <th>740.52</th>\n",
       "      <td>0.264875</td>\n",
       "      <td>1.970230</td>\n",
       "      <td>-0.259777</td>\n",
       "      <td>0.011574</td>\n",
       "      <td>-9.018320e-03</td>\n",
       "      <td>-0.006945</td>\n",
       "      <td>0.002393</td>\n",
       "      <td>-0.057745</td>\n",
       "      <td>0.016080</td>\n",
       "      <td>0.000027</td>\n",
       "      <td>...</td>\n",
       "      <td>-0.042468</td>\n",
       "      <td>0.042400</td>\n",
       "      <td>-0.042326</td>\n",
       "      <td>0.042244</td>\n",
       "      <td>-0.042155</td>\n",
       "      <td>0.042059</td>\n",
       "      <td>-0.041956</td>\n",
       "      <td>0.041846</td>\n",
       "      <td>-0.041729</td>\n",
       "      <td>1.0</td>\n",
       "    </tr>\n",
       "    <tr>\n",
       "      <th>741.20</th>\n",
       "      <td>0.266518</td>\n",
       "      <td>1.943130</td>\n",
       "      <td>-0.245802</td>\n",
       "      <td>0.011643</td>\n",
       "      <td>-9.047750e-03</td>\n",
       "      <td>-0.006848</td>\n",
       "      <td>-0.000404</td>\n",
       "      <td>0.026305</td>\n",
       "      <td>0.020149</td>\n",
       "      <td>-0.000023</td>\n",
       "      <td>...</td>\n",
       "      <td>-0.042582</td>\n",
       "      <td>0.042541</td>\n",
       "      <td>-0.042496</td>\n",
       "      <td>0.042446</td>\n",
       "      <td>-0.042392</td>\n",
       "      <td>0.042334</td>\n",
       "      <td>-0.042272</td>\n",
       "      <td>0.042205</td>\n",
       "      <td>-0.042134</td>\n",
       "      <td>1.0</td>\n",
       "    </tr>\n",
       "    <tr>\n",
       "      <th>741.88</th>\n",
       "      <td>0.264067</td>\n",
       "      <td>2.022840</td>\n",
       "      <td>-0.219479</td>\n",
       "      <td>0.011529</td>\n",
       "      <td>-9.042610e-03</td>\n",
       "      <td>-0.006838</td>\n",
       "      <td>-0.000167</td>\n",
       "      <td>0.070970</td>\n",
       "      <td>0.000980</td>\n",
       "      <td>0.000013</td>\n",
       "      <td>...</td>\n",
       "      <td>-0.042668</td>\n",
       "      <td>0.042647</td>\n",
       "      <td>-0.042624</td>\n",
       "      <td>0.042598</td>\n",
       "      <td>-0.042571</td>\n",
       "      <td>0.042541</td>\n",
       "      <td>-0.042509</td>\n",
       "      <td>0.042475</td>\n",
       "      <td>-0.042439</td>\n",
       "      <td>1.0</td>\n",
       "    </tr>\n",
       "    <tr>\n",
       "      <th>742.56</th>\n",
       "      <td>0.266184</td>\n",
       "      <td>2.085070</td>\n",
       "      <td>-0.243842</td>\n",
       "      <td>0.011669</td>\n",
       "      <td>-8.973640e-03</td>\n",
       "      <td>-0.007105</td>\n",
       "      <td>0.002858</td>\n",
       "      <td>-0.011975</td>\n",
       "      <td>-0.022345</td>\n",
       "      <td>-0.000005</td>\n",
       "      <td>...</td>\n",
       "      <td>-0.042725</td>\n",
       "      <td>0.042717</td>\n",
       "      <td>-0.042709</td>\n",
       "      <td>0.042700</td>\n",
       "      <td>-0.042690</td>\n",
       "      <td>0.042679</td>\n",
       "      <td>-0.042668</td>\n",
       "      <td>0.042655</td>\n",
       "      <td>-0.042642</td>\n",
       "      <td>1.0</td>\n",
       "    </tr>\n",
       "    <tr>\n",
       "      <th>743.24</th>\n",
       "      <td>0.269782</td>\n",
       "      <td>1.998890</td>\n",
       "      <td>-0.264169</td>\n",
       "      <td>0.011519</td>\n",
       "      <td>-9.169170e-03</td>\n",
       "      <td>-0.006878</td>\n",
       "      <td>0.003598</td>\n",
       "      <td>-0.086180</td>\n",
       "      <td>-0.020327</td>\n",
       "      <td>-0.000150</td>\n",
       "      <td>...</td>\n",
       "      <td>-0.042753</td>\n",
       "      <td>0.042753</td>\n",
       "      <td>-0.042752</td>\n",
       "      <td>0.042751</td>\n",
       "      <td>-0.042749</td>\n",
       "      <td>0.042748</td>\n",
       "      <td>-0.042747</td>\n",
       "      <td>0.042746</td>\n",
       "      <td>-0.042744</td>\n",
       "      <td>1.0</td>\n",
       "    </tr>\n",
       "  </tbody>\n",
       "</table>\n",
       "<p>1094 rows × 53 columns</p>\n",
       "</div>"
      ],
      "text/plain": [
       "         trans_x   trans_y   trans_z     rot_x         rot_y     rot_z  \\\n",
       "0.00    0.000039  0.118282  0.024608 -0.001136  2.678020e-23  0.000123   \n",
       "0.68   -0.007846  0.029104 -0.014345 -0.000760 -0.000000e+00  0.000000   \n",
       "1.36   -0.005376  0.000160  0.031220  0.000100 -2.732250e-04  0.000153   \n",
       "2.04   -0.011875  0.023054  0.023211 -0.000753 -0.000000e+00  0.000201   \n",
       "2.72   -0.010180  0.128335  0.075679  0.000273  1.631110e-23  0.000301   \n",
       "...          ...       ...       ...       ...           ...       ...   \n",
       "740.52  0.264875  1.970230 -0.259777  0.011574 -9.018320e-03 -0.006945   \n",
       "741.20  0.266518  1.943130 -0.245802  0.011643 -9.047750e-03 -0.006848   \n",
       "741.88  0.264067  2.022840 -0.219479  0.011529 -9.042610e-03 -0.006838   \n",
       "742.56  0.266184  2.085070 -0.243842  0.011669 -8.973640e-03 -0.007105   \n",
       "743.24  0.269782  1.998890 -0.264169  0.011519 -9.169170e-03 -0.006878   \n",
       "\n",
       "        trans_xtd  trans_ytd  trans_ztd   rot_xtd  ...   drift_9  drift_10  \\\n",
       "0.00    -0.007885  -0.089178  -0.038953  0.000376  ...  0.042753  0.042753   \n",
       "0.68    -0.002707  -0.059061   0.003306  0.000618  ...  0.042725  0.042717   \n",
       "1.36    -0.002014  -0.003025   0.018778  0.000003  ...  0.042668  0.042647   \n",
       "2.04    -0.002402   0.064087   0.022229  0.000087  ...  0.042582  0.042541   \n",
       "2.72     0.000610   0.008472  -0.012135  0.000081  ...  0.042468  0.042400   \n",
       "...           ...        ...        ...       ...  ...       ...       ...   \n",
       "740.52   0.002393  -0.057745   0.016080  0.000027  ... -0.042468  0.042400   \n",
       "741.20  -0.000404   0.026305   0.020149 -0.000023  ... -0.042582  0.042541   \n",
       "741.88  -0.000167   0.070970   0.000980  0.000013  ... -0.042668  0.042647   \n",
       "742.56   0.002858  -0.011975  -0.022345 -0.000005  ... -0.042725  0.042717   \n",
       "743.24   0.003598  -0.086180  -0.020327 -0.000150  ... -0.042753  0.042753   \n",
       "\n",
       "        drift_11  drift_12  drift_13  drift_14  drift_15  drift_16  drift_17  \\\n",
       "0.00    0.042752  0.042751  0.042749  0.042748  0.042747  0.042746  0.042744   \n",
       "0.68    0.042709  0.042700  0.042690  0.042679  0.042668  0.042655  0.042642   \n",
       "1.36    0.042624  0.042598  0.042571  0.042541  0.042509  0.042475  0.042439   \n",
       "2.04    0.042496  0.042446  0.042392  0.042334  0.042272  0.042205  0.042134   \n",
       "2.72    0.042326  0.042244  0.042155  0.042059  0.041956  0.041846  0.041729   \n",
       "...          ...       ...       ...       ...       ...       ...       ...   \n",
       "740.52 -0.042326  0.042244 -0.042155  0.042059 -0.041956  0.041846 -0.041729   \n",
       "741.20 -0.042496  0.042446 -0.042392  0.042334 -0.042272  0.042205 -0.042134   \n",
       "741.88 -0.042624  0.042598 -0.042571  0.042541 -0.042509  0.042475 -0.042439   \n",
       "742.56 -0.042709  0.042700 -0.042690  0.042679 -0.042668  0.042655 -0.042642   \n",
       "743.24 -0.042752  0.042751 -0.042749  0.042748 -0.042747  0.042746 -0.042744   \n",
       "\n",
       "        constant  \n",
       "0.00         1.0  \n",
       "0.68         1.0  \n",
       "1.36         1.0  \n",
       "2.04         1.0  \n",
       "2.72         1.0  \n",
       "...          ...  \n",
       "740.52       1.0  \n",
       "741.20       1.0  \n",
       "741.88       1.0  \n",
       "742.56       1.0  \n",
       "743.24       1.0  \n",
       "\n",
       "[1094 rows x 53 columns]"
      ]
     },
     "execution_count": 30,
     "metadata": {},
     "output_type": "execute_result"
    }
   ],
   "source": [
    "confound_df"
   ]
  },
  {
   "cell_type": "markdown",
   "metadata": {},
   "source": [
    "## Pt3 - generate slicetiming files"
   ]
  },
  {
   "cell_type": "code",
   "execution_count": 126,
   "metadata": {},
   "outputs": [],
   "source": [
    "import json as JSON"
   ]
  },
  {
   "cell_type": "code",
   "execution_count": 170,
   "metadata": {},
   "outputs": [],
   "source": [
    "task_jsons = glob(path.join(bids_dir, '*_bold.json'))"
   ]
  },
  {
   "cell_type": "code",
   "execution_count": 174,
   "metadata": {},
   "outputs": [
    {
     "name": "stdout",
     "output_type": "stream",
     "text": [
      "/Users/henrymj/Documents/SRO/tmp/OAK/data/uh2/aim1/BIDS_scans/derivatives/fsl/inputs/stroop_slice_times.txt\n",
      "/Users/henrymj/Documents/SRO/tmp/OAK/data/uh2/aim1/BIDS_scans/derivatives/fsl/inputs/motorSelectiveStop_slice_times.txt\n",
      "/Users/henrymj/Documents/SRO/tmp/OAK/data/uh2/aim1/BIDS_scans/derivatives/fsl/inputs/rest_slice_times.txt\n",
      "/Users/henrymj/Documents/SRO/tmp/OAK/data/uh2/aim1/BIDS_scans/derivatives/fsl/inputs/twoByTwo_slice_times.txt\n",
      "/Users/henrymj/Documents/SRO/tmp/OAK/data/uh2/aim1/BIDS_scans/derivatives/fsl/inputs/discountFix_slice_times.txt\n",
      "/Users/henrymj/Documents/SRO/tmp/OAK/data/uh2/aim1/BIDS_scans/derivatives/fsl/inputs/CCTHot_slice_times.txt\n",
      "/Users/henrymj/Documents/SRO/tmp/OAK/data/uh2/aim1/BIDS_scans/derivatives/fsl/inputs/ANT_slice_times.txt\n",
      "/Users/henrymj/Documents/SRO/tmp/OAK/data/uh2/aim1/BIDS_scans/derivatives/fsl/inputs/DPX_slice_times.txt\n",
      "/Users/henrymj/Documents/SRO/tmp/OAK/data/uh2/aim1/BIDS_scans/derivatives/fsl/inputs/surveyMedley_slice_times.txt\n",
      "/Users/henrymj/Documents/SRO/tmp/OAK/data/uh2/aim1/BIDS_scans/derivatives/fsl/inputs/stopSignal_slice_times.txt\n",
      "/Users/henrymj/Documents/SRO/tmp/OAK/data/uh2/aim1/BIDS_scans/derivatives/fsl/inputs/WATT3_slice_times.txt\n"
     ]
    }
   ],
   "source": [
    "for curr_json in task_jsons:\n",
    "    #read in json dict\n",
    "    jf = open(curr_json,'r')\n",
    "    task_dict = JSON.loads(jf.read())\n",
    "    jf.close()\n",
    "    #get relevant path\n",
    "    task_str = curr_json.split('task-')[1].replace('_bold.json', '')\n",
    "    out_slice_file = path.join(fsl_input_path, task_str+'_slice_times.txt')\n",
    "    #write the slice times into a file\n",
    "    f=open(out_slice_file, 'w+')\n",
    "    for slice_time in task_dict['SliceTiming']:\n",
    "        f.write(str(slice_time)+'\\n')\n",
    "    f.close()"
   ]
  },
  {
   "cell_type": "markdown",
   "metadata": {},
   "source": [
    "## Pt4 - extract brains\n",
    "\n",
    "this will generate commands like the one below and save them to an sbatch_file in SRO_fMRI/fmri_analyses/fsl\n",
    "\n",
    "`/share/software/user/open/fsl/5.0.10/bin/bet /oak/stanford/groups/russpold/data/uh2/aim1/BIDS_scans/sub-s061/ses-1/anat/sub-s061_ses-1_T1w /oak/stanford/groups/russpold/data/uh2/aim1/BIDS_scans/derivatives/fsl/inputs/s061/brain  -f 0.5 -g 0 -m\n",
    "`"
   ]
  },
  {
   "cell_type": "code",
   "execution_count": 84,
   "metadata": {},
   "outputs": [],
   "source": [
    "sbatch_headers='''#!/bin/bash\n",
    "#SBATCH --job-name=fsl_BET\n",
    "#SBATCH --output=.out/fsl_BET.out\n",
    "#SBATCH --error=.err/fsl_BET.err\n",
    "#SBATCH --time=10:00:00\n",
    "#SBATCH --mail-type=END\n",
    "#SBATCH --mail-user=poldracklab@stanford.edu\n",
    "#SBATCH --cpus-per-task=8\n",
    "#SBATCH --ntasks-per-node=1\n",
    "#SBATCH -p russpold\n",
    "export PYTHONPATH=\"\"\n",
    "'''"
   ]
  },
  {
   "cell_type": "code",
   "execution_count": 85,
   "metadata": {},
   "outputs": [],
   "source": [
    "fsl_command = '/share/software/user/open/fsl/5.0.10/bin/bet'\n",
    "sherlock_bids = '/oak/stanford/groups/russpold/data/uh2/aim1/BIDS_scans'\n",
    "sherlock_fsl = '/oak/stanford/groups/russpold/data/uh2/aim1/BIDS_scans/derivatives/fsl/inputs'\n",
    "fsl_flags = '  -f 0.5 -g 0 -m'"
   ]
  },
  {
   "cell_type": "code",
   "execution_count": 86,
   "metadata": {},
   "outputs": [],
   "source": [
    "anats = glob(path.join(bids_dir, 'sub-*', 'ses-*', 'anat', '*_T1w*'))\n",
    "anats.sort()"
   ]
  },
  {
   "cell_type": "code",
   "execution_count": 94,
   "metadata": {},
   "outputs": [],
   "source": [
    "f=open('../fsl/fsl_BET.batch', 'w+')"
   ]
  },
  {
   "cell_type": "code",
   "execution_count": 95,
   "metadata": {},
   "outputs": [
    {
     "data": {
      "text/plain": [
       "1"
      ]
     },
     "execution_count": 95,
     "metadata": {},
     "output_type": "execute_result"
    }
   ],
   "source": [
    "f.write(sbatch_headers)\n",
    "f.write('\\n')"
   ]
  },
  {
   "cell_type": "code",
   "execution_count": null,
   "metadata": {},
   "outputs": [],
   "source": [
    "for anat in anats:\n",
    "    full_sub = anat.split('BIDS_scans/')[1].split('/ses')[0]\n",
    "    subid = full_sub.split('-')[1]\n",
    "\n",
    "    sesanat = anat.split(full_sub)[1]\n",
    "    sesanat = sesanat.strip('/')\n",
    "    \n",
    "    sesnums = re.findall(r'\\d', sesanat)\n",
    "    sesnum = sesnums[0]\n",
    "\n",
    "    t1_file = anat.split('/')[-1].replace('.nii.gz', '')\n",
    "\n",
    "    full_command = fsl_command+' '+path.join(sherlock_bids, full_sub, sesanat, t1_file)+' '+path.join(sherlock_fsl, subid, 'brain'+sesnum)+fsl_flags+'\\n'\n",
    "#     print(full_command)\n",
    "    f.write(full_command)\n",
    "    f.write('\\n')"
   ]
  },
  {
   "cell_type": "code",
   "execution_count": 97,
   "metadata": {},
   "outputs": [],
   "source": [
    "f.close()"
   ]
  },
  {
   "cell_type": "markdown",
   "metadata": {},
   "source": [
    "## P5 - building up bash scripts for each task"
   ]
  },
  {
   "cell_type": "code",
   "execution_count": 4,
   "metadata": {},
   "outputs": [],
   "source": [
    "import nibabel as nib"
   ]
  },
  {
   "cell_type": "code",
   "execution_count": null,
   "metadata": {},
   "outputs": [],
   "source": []
  },
  {
   "cell_type": "code",
   "execution_count": 5,
   "metadata": {},
   "outputs": [],
   "source": [
    "def get_relative_brain(task, subject, ses_num):\n",
    "    possible_brains = glob(path.join(fsl_input_path, subject, 'brain*_mask.nii.gz'))\n",
    "    if path.exists(path.join(fsl_input_path, subject, 'brain%s.nii.gz' % ses_num)): #if there is a brain for the session, use the appropiate brain\n",
    "        return path.join(fsl_input_path, subject, 'brain%s.nii.gz' % ses_num)\n",
    "    else: #use the default brain\n",
    "        return possible_brains[0].replace('_mask', '')"
   ]
  },
  {
   "cell_type": "code",
   "execution_count": 6,
   "metadata": {},
   "outputs": [],
   "source": [
    "# tasks = ['ANT', 'CCTHot', 'DPX', 'WATT3', 'discountFix', 'motorSelectiveStop', 'stopSignal', 'stroop', 'twoByTwo']\n",
    "tasks= ['DPX']\n",
    "\n",
    "doover_subjects = ['s512', 's471', 's640', 's573', 's581', 's624', 's638', 's615', 's611', 's644', 's627', 's649', 's626', 's635', 's650']"
   ]
  },
  {
   "cell_type": "code",
   "execution_count": 8,
   "metadata": {},
   "outputs": [
    {
     "name": "stdout",
     "output_type": "stream",
     "text": [
      "didnt continue\n",
      "didnt continue\n"
     ]
    }
   ],
   "source": [
    "for sub in ['s512', 's471', 's499']:\n",
    "    if sub not in doover_subjects:\n",
    "        continue\n",
    "    print('didnt continue')"
   ]
  },
  {
   "cell_type": "markdown",
   "metadata": {},
   "source": [
    "#build up bash scripts to run FEAT for different tasks"
   ]
  },
  {
   "cell_type": "code",
   "execution_count": 9,
   "metadata": {},
   "outputs": [],
   "source": [
    "sh_headers='''fsl_dir=\"/home/groups/russpold/uh2_analysis/Self_Regulation_Ontology_fMRI/fmri_analysis/fsl\"\n",
    "template_dir=$fsl_dir/\"templates\"\n",
    "tmp_dir=$fsl_dir/\"tmp_batch\"\n",
    "\n",
    "'''"
   ]
  },
  {
   "cell_type": "code",
   "execution_count": 10,
   "metadata": {},
   "outputs": [
    {
     "name": "stdout",
     "output_type": "stream",
     "text": [
      "DPX\n"
     ]
    }
   ],
   "source": [
    "for task in tasks:\n",
    "    print(task)\n",
    "    task_niftis = glob(path.join(bids_dir, 'sub-*', '*/func/*task-%s*_bold.nii.gz' % task))\n",
    "    task_niftis.sort()\n",
    "\n",
    "    loop_str = ''\n",
    "    for curr_nifti in task_niftis:\n",
    "        #break down path to get {RELATIVE_BOLD}, {SUBJECT}, {SES_BRAIN}, and {NTP}\n",
    "        relative_bold = curr_nifti.replace(bids_dir, '').replace('.nii.gz', '')\n",
    "        subject = relative_bold.replace('/sub-', '').split('/')[0]\n",
    "        if subject not in doover_subjects: #skip already passed subjects\n",
    "            continue\n",
    "        ses_num = relative_bold.split('/ses-')[1].split('/')[0]\n",
    "        try:\n",
    "            BET_brain_path = get_relative_brain(task, subject, ses_num)\n",
    "            ses_brain = BET_brain_path.split('/')[-1].replace('.nii.gz', '')\n",
    "            img = nib.load(curr_nifti)\n",
    "            shape = img.header.get_data_shape()\n",
    "            ntp = shape[-1]\n",
    "            totV = np.prod(shape)\n",
    "\n",
    "            loop_str += ' %s,%s,%s,%s,%s' % (relative_bold, subject, ses_brain, ntp, totV) #THIS IS THE IMPORTANT BIT\n",
    "        except IndexError:\n",
    "            print('check out the brain for %s' % subject)\n",
    "\n",
    "    potential_str = \"OLDIFS=$IFS; IFS=',';\\nfor i in\"+loop_str+'; do set -- $i;\\n' +\"\"\"\\tsed -e \"s|{RELATIVE_BOLD}|$1|g\" -e \"s|{SUBJECT}|$2|g\" -e \"s|{SES_BRAIN}|$3|g\" -e \"s|{NTP}|$4|g\" -e \"s|{TOT_VOX}|$5|g\" $template_dir/template_%s_RT-True_fsl.fsf > $tmp_dir/%s_$2_RT-True_fsl.fsf;\n",
    "    sed -e \"s|{RELATIVE_BOLD}|$1|g\" -e \"s|{SUBJECT}|$2|g\" -e \"s|{SES_BRAIN}|$3|g\" -e \"s|{NTP}|$4|g\" -e \"s|{TOT_VOX}|$5|g\" $template_dir/template_%s_RT-False_fsl.fsf > $tmp_dir/%s_$2_RT-False_fsl.fsf;\n",
    "    sed -e \"s|{SUBJECT}|$2|g\" -e \"s|{TASK}|%s|g\" $template_dir/template_1stlevel_FEAT.batch > $tmp_dir/%s_$2_FEAT.batch;\n",
    "    sbatch $tmp_dir/%s_$2_FEAT.batch;\\ndone;\\nIFS=$OLDIFS;\n",
    "    \"\"\" % (task, task, task, task, task, task, task)\n",
    "    f=open('../fsl/run_%s_FEAT_do_over.sh' % task, 'w+')\n",
    "    f.write(sh_headers)\n",
    "    f.write('\\n')\n",
    "    f.write(potential_str)\n",
    "    f.close()"
   ]
  },
  {
   "cell_type": "code",
   "execution_count": null,
   "metadata": {},
   "outputs": [],
   "source": []
  }
 ],
 "metadata": {
  "kernelspec": {
   "display_name": "Python 3",
   "language": "python",
   "name": "python3"
  },
  "language_info": {
   "codemirror_mode": {
    "name": "ipython",
    "version": 3
   },
   "file_extension": ".py",
   "mimetype": "text/x-python",
   "name": "python",
   "nbconvert_exporter": "python",
   "pygments_lexer": "ipython3",
   "version": "3.9.5"
  }
 },
 "nbformat": 4,
 "nbformat_minor": 4
}
