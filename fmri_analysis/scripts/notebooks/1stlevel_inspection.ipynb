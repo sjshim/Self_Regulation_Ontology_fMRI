{
 "cells": [
  {
   "cell_type": "code",
   "execution_count": null,
   "metadata": {},
   "outputs": [],
   "source": [
    "import argparse\n",
    "from glob import glob\n",
    "from os import path\n",
    "import sys\n",
    "\n",
    "from nilearn.decomposition import CanICA"
   ]
  },
  {
   "cell_type": "code",
   "execution_count": null,
   "metadata": {},
   "outputs": [],
   "source": [
    "parser = argparse.ArgumentParser(description='First Level Inspection Entrypoint script')\n",
    "parser.add_argument('-derivatives_dir', default=None)\n",
    "parser.add_argument('--tasks', nargs=\"+\", help=\"Choose from ANT, CCTHot, discountFix, \\\n",
    "                                    DPX, motorSelectiveStop, stopSignal, \\\n",
    "                                    stroop, surveyMedley, twoByTwo, WATT3\")\n",
    "parser.add_argument('-n_procs', default=1, type=int)\n",
    "if '-derivatives_dir' in sys.argv or '-h' in sys.argv:\n",
    "    args = parser.parse_args()\n",
    "else:\n",
    "    args = parser.parse_args([])\n",
    "    args.derivatives_dir = '/data/derivatives'\n",
    "    args.n_procs=1\n",
    "    args.tasks = ['stopSignal']"
   ]
  },
  {
   "cell_type": "code",
   "execution_count": null,
   "metadata": {},
   "outputs": [],
   "source": [
    "fmriprep_dir = path.join(args.derivatives_dir, 'fmriprep', 'fmriprep')\n",
    "first_level_dir = path.join(args.derivatives_dir,'1stlevel')\n",
    "# set tasks\n",
    "if args.tasks is not None:\n",
    "    tasks = args.tasks\n",
    "else:\n",
    "    tasks = ['ANT', 'CCTHot', 'discountFix',\n",
    "            'DPX', 'motorSelectiveStop',\n",
    "            'stopSignal', 'stroop',\n",
    "            'twoByTwo', 'WATT3']\n",
    "n_comps = 20"
   ]
  },
  {
   "cell_type": "markdown",
   "metadata": {},
   "source": [
    "# Run Canonical ICA"
   ]
  },
  {
   "cell_type": "code",
   "execution_count": null,
   "metadata": {},
   "outputs": [],
   "source": [
    "for task in tasks:\n",
    "    func_filenames = glob(path.join(fmriprep_dir, '*', '*', 'func', '*%s*MNI*preproc.nii.gz' % task))\n",
    "    canica = CanICA(n_components=n_comps, smoothing_fwhm=6.,\n",
    "                    threshold=3., verbose=10, random_state=0,\n",
    "                    n_jobs=args.n_procs)\n",
    "    canica.fit(func_filenames)\n",
    "    components_img = canica.components_img_\n",
    "    components_img.to_filename(path.join(first_level_dir, '%s_canica_NComp-%s.nii.gz' % (task, str(n_comps)))"
   ]
  }
 ],
 "metadata": {
  "kernelspec": {
   "display_name": "Python 3",
   "language": "python",
   "name": "python3"
  },
  "language_info": {
   "codemirror_mode": {
    "name": "ipython",
    "version": 3
   },
   "file_extension": ".py",
   "mimetype": "text/x-python",
   "name": "python",
   "nbconvert_exporter": "python",
   "pygments_lexer": "ipython3",
   "version": "3.9.5"
  }
 },
 "nbformat": 4,
 "nbformat_minor": 4
}
